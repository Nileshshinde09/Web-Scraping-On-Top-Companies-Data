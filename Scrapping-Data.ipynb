{
 "cells": [
  {
   "cell_type": "code",
   "execution_count": 1,
   "id": "54cec701",
   "metadata": {},
   "outputs": [],
   "source": [
    "from bs4 import BeautifulSoup\n",
    "import requests\n",
    "import pandas as pd"
   ]
  },
  {
   "cell_type": "code",
   "execution_count": 2,
   "id": "df1f95be",
   "metadata": {},
   "outputs": [],
   "source": [
    "url = 'https://www.ambitionbox.com/list-of-companies?campaign=desktop_nav&page=1'\n",
    "headers = {'User-Agent': 'Mozilla/5.0 (Windows NT 6.3; Win64; x64) AppleWebKit/537.36 (KHTML, like Gecko) Chrome/80.0.3987.162 Safari/537.36'}\n",
    "response = requests.get(url,headers=headers)\n",
    "html = response.text\n"
   ]
  },
  {
   "cell_type": "code",
   "execution_count": 3,
   "id": "4068330b",
   "metadata": {},
   "outputs": [],
   "source": [
    "soup = BeautifulSoup(html, 'html.parser')\n"
   ]
  },
  {
   "cell_type": "code",
   "execution_count": 4,
   "id": "fed6b47b",
   "metadata": {},
   "outputs": [],
   "source": [
    "div_with_class = soup.find_all('div', class_='companyCardWrapper')"
   ]
  },
  {
   "cell_type": "code",
   "execution_count": 5,
   "id": "0b709e66",
   "metadata": {},
   "outputs": [],
   "source": [
    "# for i in div_with_class:\n",
    "#     print(i.prettify())\n",
    "main_div=div_with_class[0].prettify()\n",
    "i=BeautifulSoup(main_div, 'html.parser')"
   ]
  },
  {
   "cell_type": "code",
   "execution_count": 6,
   "id": "8f0780f8",
   "metadata": {},
   "outputs": [
    {
     "name": "stdout",
     "output_type": "stream",
     "text": [
      "Promotions / Appraisal, Salary & Benefits\n"
     ]
    }
   ],
   "source": [
    "critically_rated=i.find_all('span' ,class_=\"companyCardWrapper__ratingValues\")[1].text.strip()\n",
    "if critically_rated is not None:\n",
    "    print(critically_rated)\n"
   ]
  },
  {
   "cell_type": "code",
   "execution_count": 7,
   "id": "7c162a45",
   "metadata": {},
   "outputs": [
    {
     "data": {
      "text/plain": [
       "'TCS'"
      ]
     },
     "execution_count": 7,
     "metadata": {},
     "output_type": "execute_result"
    }
   ],
   "source": [
    "#Company Name\n",
    "i.find('h2',class_=\"companyCardWrapper__companyName\").text.strip()"
   ]
  },
  {
   "cell_type": "code",
   "execution_count": 8,
   "id": "d4c3bd82",
   "metadata": {},
   "outputs": [
    {
     "data": {
      "text/plain": [
       "'3.8'"
      ]
     },
     "execution_count": 8,
     "metadata": {},
     "output_type": "execute_result"
    }
   ],
   "source": [
    "#Company Rating\n",
    "i.find('span' ,class_=\"companyCardWrapper__companyRatingValue\").text.strip()"
   ]
  },
  {
   "cell_type": "code",
   "execution_count": 9,
   "id": "771973f6",
   "metadata": {},
   "outputs": [
    {
     "data": {
      "text/plain": [
       "['IT Services & Consulting ',\n",
       " ' 1 Lakh+ Employees ',\n",
       " ' Public ',\n",
       " ' 55 years old ',\n",
       " ' Mumbai +302 more']"
      ]
     },
     "execution_count": 9,
     "metadata": {},
     "output_type": "execute_result"
    }
   ],
   "source": [
    "#Company info\n",
    "i.find('span' ,class_=\"companyCardWrapper__interLinking\").text.strip().split(\"|\")"
   ]
  },
  {
   "cell_type": "code",
   "execution_count": 10,
   "id": "d0420d87",
   "metadata": {},
   "outputs": [
    {
     "data": {
      "text/plain": [
       "'Job Security, Work Life Balance, Company Culture'"
      ]
     },
     "execution_count": 10,
     "metadata": {},
     "output_type": "execute_result"
    }
   ],
   "source": [
    "# Highly rated for\n",
    "i.find_all('span' ,class_=\"companyCardWrapper__ratingValues\")[0].text.strip()"
   ]
  },
  {
   "cell_type": "code",
   "execution_count": 11,
   "id": "751afe83",
   "metadata": {},
   "outputs": [
    {
     "data": {
      "text/plain": [
       "'Promotions / Appraisal, Salary & Benefits'"
      ]
     },
     "execution_count": 11,
     "metadata": {},
     "output_type": "execute_result"
    }
   ],
   "source": [
    "# critically rated for\n",
    "i.find_all('span' ,class_=\"companyCardWrapper__ratingValues\")[1].text.strip()"
   ]
  },
  {
   "cell_type": "code",
   "execution_count": 12,
   "id": "2850d6cf",
   "metadata": {},
   "outputs": [],
   "source": [
    "raw_info=i.find('div', class_=\"companyCardWrapper__tertiaryInformation\").prettify()\n",
    "info_div=BeautifulSoup(raw_info, 'html.parser')"
   ]
  },
  {
   "cell_type": "code",
   "execution_count": 13,
   "id": "c0be5188",
   "metadata": {},
   "outputs": [
    {
     "name": "stdout",
     "output_type": "stream",
     "text": [
      "67k 737.1k 5.6k 278 11.3k\n"
     ]
    }
   ],
   "source": [
    "#statInfo of the Company\n",
    "statInfo= info_div.find_all('span',class_=\"companyCardWrapper__ActionCount\")[:-1]\n",
    "print(statInfo[0].text.strip(),statInfo[1].text.strip(),statInfo[2].text.strip(),statInfo[3].text.strip(),statInfo[4].text.strip())"
   ]
  },
  {
   "cell_type": "code",
   "execution_count": 14,
   "id": "96a2e480",
   "metadata": {},
   "outputs": [
    {
     "data": {
      "text/plain": [
       "'https://static.ambitionbox.com/alpha/company/photos/logos/tcs.jpg'"
      ]
     },
     "execution_count": 14,
     "metadata": {},
     "output_type": "execute_result"
    }
   ],
   "source": [
    "#Company logo\n",
    "logo_url=i.find('img')['src']\n",
    "logo_url"
   ]
  },
  {
   "cell_type": "code",
   "execution_count": 15,
   "id": "e6f1a72c",
   "metadata": {},
   "outputs": [],
   "source": [
    "def process_Company():\n",
    "    \n",
    "    dict1={\n",
    "        'Name':[],\n",
    "        'Rating':[],\n",
    "        'CompanyType':[],\n",
    "        'Employees':[],\n",
    "        'Public_or_Private':[],\n",
    "        'old':[],\n",
    "        'Headquarter':[],\n",
    "        'Branches':[],\n",
    "        'Highly_rated':[],\n",
    "        'Critically_rated':[],\n",
    "        'Reviews':[],\n",
    "        'Salaries':[],\n",
    "        'Interviews':[],\n",
    "        'Jobs':[],\n",
    "        'Benefits':[],\n",
    "        'Logo_URL':[]\n",
    "    }\n",
    "    for j in range(1,1000):\n",
    "        try:\n",
    "            url=f\"https://www.ambitionbox.com/list-of-companies?campaign=desktop_nav&page={j}\"\n",
    "            headers = {'User-Agent': 'Mozilla/5.0 (Windows NT 6.3; Win64; x64) AppleWebKit/537.36 (KHTML, like Gecko) Chrome/80.0.3987.162 Safari/537.36'}\n",
    "            response = requests.get(url,headers=headers)\n",
    "            html = response.text\n",
    "            soup = BeautifulSoup(html, 'html.parser')\n",
    "            div_with_class = soup.find_all('div', class_='companyCardWrapper')\n",
    "        except Exception:\n",
    "            break\n",
    "        for main_div in div_with_class:\n",
    "            main_div=main_div.prettify()\n",
    "            i=BeautifulSoup(main_div, 'html.parser')\n",
    "\n",
    "\n",
    "            #Company Name\n",
    "            company_name=i.find('h2',class_=\"companyCardWrapper__companyName\").text.strip()\n",
    "            if company_name is not None:\n",
    "                dict1['Name'].append(company_name)\n",
    "            else:\n",
    "                dict1['Name'].append(\"null\")\n",
    "            #Company Rating\n",
    "            company_rating=i.find('span' ,class_=\"companyCardWrapper__companyRatingValue\").text.strip()\n",
    "            if company_rating is not None:\n",
    "                dict1['Rating'].append(company_rating)\n",
    "            else:\n",
    "                dict1['Rating'].append(\"null\")\n",
    "\n",
    "            #Company info\n",
    "            try:\n",
    "                company_info=i.find('span' ,class_=\"companyCardWrapper__interLinking\").text.strip().split(\"|\")\n",
    "\n",
    "                if company_info is not None:\n",
    "                    dict1['CompanyType'].append(company_info[0])\n",
    "                    dict1['Employees'].append(company_info[1])\n",
    "                    dict1['Public_or_Private'].append(company_info[2])\n",
    "                    dict1['old'].append(company_info[3].strip().split(' ')[0])\n",
    "                    dict1['Headquarter'].append(company_info[4].strip().split('+')[0])\n",
    "                    dict1['Branches'].append(int((company_info[4].strip().split('+')[1])[0])+1)\n",
    "            except Exception:\n",
    "                dict1['CompanyType'].append('null')\n",
    "                dict1['Employees'].append('null')\n",
    "                dict1['Public_or_Private'].append('null')\n",
    "                dict1['Headquarter'].append('null')\n",
    "                dict1['Branches'].append('null')\n",
    "\n",
    "            # Highly rated for\n",
    "            try:\n",
    "                highly_rated=i.find_all('span' ,class_=\"companyCardWrapper__ratingValues\")[0].text.strip()\n",
    "                if highly_rated is not None:\n",
    "                    dict1['Highly_rated'].append(highly_rated)\n",
    "                else:\n",
    "                    dict1['Highly_rated'].append(\"null\")\n",
    "            except Exception:      \n",
    "                dict1['Highly_rated'].append(\"null\")\n",
    "            # critically rated for\n",
    "            try:\n",
    "                critically_rated=i.find_all('span' ,class_=\"companyCardWrapper__ratingValues\")[1].text.strip()\n",
    "                if critically_rated is not None:\n",
    "                    dict1['Critically_rated'].append(critically_rated)\n",
    "                else:\n",
    "                    dict1['Critically_rated'].append(\"null\")\n",
    "            except Exception:\n",
    "                dict1['Critically_rated'].append(\"null\")\n",
    "\n",
    "            #StatInfo of the Company\n",
    "            try:\n",
    "                raw_info=i.find('div', class_=\"companyCardWrapper__tertiaryInformation\").prettify()\n",
    "                info_div=BeautifulSoup(raw_info, 'html.parser')\n",
    "                statInfo= info_div.find_all('span',class_=\"companyCardWrapper__ActionCount\")[:-1]\n",
    "                dict1['Reviews'].append(statInfo[0].text.strip())\n",
    "                dict1['Salaries'].append(statInfo[1].text.strip())\n",
    "                dict1['Interviews'].append(statInfo[2].text.strip())\n",
    "                dict1['Jobs'].append(statInfo[3].text.strip())\n",
    "                dict1['Benefits'].append(statInfo[4].text.strip())\n",
    "            except Exception:\n",
    "                dict1['Reviews'].append('null')\n",
    "                dict1['Salaries'].append('null')\n",
    "                dict1['Interviews'].append('null')\n",
    "                dict1['Jobs'].append('null')\n",
    "                dict1['Benefits'].append('null')\n",
    "            #Company logo\n",
    "            try:\n",
    "                if i.find('img')['src'] is not None:\n",
    "                    dict1['Logo_URL'].append(i.find('img')['src'])\n",
    "            except Exception:\n",
    "                dict1['Logo_URL'].append('null')\n",
    "    return dict1\n",
    "    "
   ]
  },
  {
   "cell_type": "code",
   "execution_count": 16,
   "id": "a5312f17",
   "metadata": {},
   "outputs": [],
   "source": [
    "# {'Name': ['TCS'],\n",
    "#  'Rating': ['3.8'],\n",
    "#   'CompanyType': ['IT Services & Consulting '],\n",
    "#   'Employees': [' 1 Lakh+ Employees '],\n",
    "#   'Public_or_Private': [' Public '],\n",
    "#   'old': [' 55 years old '],\n",
    "#  'Headquarter': ['Mumbai'],\n",
    "#  'Branches': [303],\n",
    "#  'Highly_rated': ['Job Security, Work Life Balance, Company Culture'],\n",
    "#  'Critically_rated': ['Promotions / Appraisal, Salary & Benefits'],\n",
    "#  'Reviews': ['67k'],\n",
    "#  'Salaries': ['737.1k'],\n",
    "#  'Interviews': ['5.6k'],\n",
    "#  'Jobs': ['278'],\n",
    "#  'Benefits': ['11.3k'],\n",
    "#  'Logo_URL': ['https://static.ambitionbox.com/alpha/company/photos/logos/tcs.jpg']}"
   ]
  },
  {
   "cell_type": "code",
   "execution_count": 17,
   "id": "574680c7",
   "metadata": {},
   "outputs": [],
   "source": [
    "result=process_Company()"
   ]
  },
  {
   "cell_type": "code",
   "execution_count": 33,
   "id": "96a0003d",
   "metadata": {},
   "outputs": [],
   "source": [
    "dict_data=result.copy()"
   ]
  },
  {
   "cell_type": "code",
   "execution_count": 41,
   "id": "1389d0dc",
   "metadata": {},
   "outputs": [],
   "source": [
    "del dict_data['CompanyType']\n",
    "del dict_data['Employees']\n",
    "del dict_data['Public_or_Private']\n",
    "del dict_data['old']\n",
    "del dict_data['Headquarter']"
   ]
  },
  {
   "cell_type": "code",
   "execution_count": 42,
   "id": "b1957058",
   "metadata": {},
   "outputs": [
    {
     "name": "stdout",
     "output_type": "stream",
     "text": [
      "Name\n",
      "Rating\n",
      "Branches\n",
      "Highly_rated\n",
      "Critically_rated\n",
      "Reviews\n",
      "Salaries\n",
      "Interviews\n",
      "Jobs\n",
      "Benefits\n",
      "Logo_URL\n"
     ]
    }
   ],
   "source": [
    "for i in dict_data:\n",
    "    print(i)"
   ]
  },
  {
   "cell_type": "code",
   "execution_count": 46,
   "id": "671a26f8",
   "metadata": {},
   "outputs": [],
   "source": [
    "company_dataset=pd.DataFrame.from_dict(dict_data) "
   ]
  },
  {
   "cell_type": "code",
   "execution_count": 47,
   "id": "8436eb3d",
   "metadata": {},
   "outputs": [],
   "source": [
    "company_dataset.to_pickle(\"company_dataset.pkl\")"
   ]
  },
  {
   "cell_type": "code",
   "execution_count": 48,
   "id": "1f58bfb5",
   "metadata": {},
   "outputs": [],
   "source": [
    "company_dataset.to_csv(\"company_dataset.csv\")"
   ]
  },
  {
   "cell_type": "code",
   "execution_count": null,
   "id": "317778de",
   "metadata": {},
   "outputs": [],
   "source": []
  }
 ],
 "metadata": {
  "kernelspec": {
   "display_name": "Python 3 (ipykernel)",
   "language": "python",
   "name": "python3"
  },
  "language_info": {
   "codemirror_mode": {
    "name": "ipython",
    "version": 3
   },
   "file_extension": ".py",
   "mimetype": "text/x-python",
   "name": "python",
   "nbconvert_exporter": "python",
   "pygments_lexer": "ipython3",
   "version": "3.9.13"
  }
 },
 "nbformat": 4,
 "nbformat_minor": 5
}
